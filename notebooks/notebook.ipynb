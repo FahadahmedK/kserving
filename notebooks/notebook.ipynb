{
 "cells": [
  {
   "cell_type": "code",
   "execution_count": 1,
   "metadata": {},
   "outputs": [
    {
     "name": "stdout",
     "output_type": "stream",
     "text": [
      "Allocated: 0.000 GB\n",
      "Reserved:  0.000 GB\n",
      "Max Reserved: 0.000 GB\n"
     ]
    }
   ],
   "source": [
    "import torch\n",
    "\n",
    "print(f\"Allocated: {torch.cuda.memory_allocated(0)/1024**3:.3f} GB\")\n",
    "print(f\"Reserved:  {torch.cuda.memory_reserved(0)/1024**3:.3f} GB\")\n",
    "print(f\"Max Reserved: {torch.cuda.max_memory_reserved(0)/1024**3:.3f} GB\")"
   ]
  },
  {
   "cell_type": "code",
   "execution_count": 2,
   "metadata": {},
   "outputs": [
    {
     "name": "stdout",
     "output_type": "stream",
     "text": [
      "Free: 3.226 GB\n",
      "Total: 4.000 GB\n"
     ]
    }
   ],
   "source": [
    "free, total = torch.cuda.mem_get_info(0)\n",
    "print(f\"Free: {free/1024**3:.3f} GB\")\n",
    "print(f\"Total: {total/1024**3:.3f} GB\")"
   ]
  },
  {
   "cell_type": "code",
   "execution_count": null,
   "metadata": {},
   "outputs": [],
   "source": []
  }
 ],
 "metadata": {
  "kernelspec": {
   "display_name": ".venv",
   "language": "python",
   "name": "python3"
  },
  "language_info": {
   "codemirror_mode": {
    "name": "ipython",
    "version": 3
   },
   "file_extension": ".py",
   "mimetype": "text/x-python",
   "name": "python",
   "nbconvert_exporter": "python",
   "pygments_lexer": "ipython3",
   "version": "3.12.7"
  }
 },
 "nbformat": 4,
 "nbformat_minor": 2
}
